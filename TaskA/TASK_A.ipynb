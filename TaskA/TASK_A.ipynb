{
 "cells": [
  {
   "cell_type": "code",
   "execution_count": 10,
   "metadata": {},
   "outputs": [],
   "source": [
    "import numpy as np\n",
    "import matplotlib.pyplot as plt\n",
    "import scipy\n",
    "from scipy import stats\n"
   ]
  },
  {
   "cell_type": "markdown",
   "metadata": {},
   "source": [
    "I start each toss with 1£ and I bet a fraction *f*. At each toss I can either get head and win, or tail and loose. In case of winning my wealth is going to be: $y = 1 + 2\\times f \\times 1£ = (1+2f)$. In cae of loosing my wealth is going to be $y = 1 - f\\times 1 = 1 (1-f) $. Therefore, at each win I multiply my wealth by $1+2f$, while at each loss I multiply my wealth by $1-f$. The final amount I obtain is $y = (1+2f)^w \\times (1-f)^{(1000-w)} £$, where $w$ is the number of wins I obtain out of 1000 tosses. In order to find the optimal $f$ which lets us become billionaris with the least number of tosses we want to minimise the following function with respect to $f$: $(1+2f)^w \\times (1-f)^{(1000-w)} \\geq 10^9$. I first computer the minimun number of wins to get to $10^9$ and compute the fraction of my initial wealth to bet. Once I have found the result I can look up the value f which correspond to the minimun number of throws.\n",
    "I initialise the $f$, setting it from 0 to 1 with increasing step of 0.0001."
   ]
  },
  {
   "cell_type": "code",
   "execution_count": 142,
   "metadata": {},
   "outputs": [],
   "source": [
    "f = np.arange(0,1,0.0001)"
   ]
  },
  {
   "cell_type": "code",
   "execution_count": 143,
   "metadata": {},
   "outputs": [],
   "source": [
    "w = [ 1000 for i in range(len(f))]"
   ]
  },
  {
   "cell_type": "code",
   "execution_count": 144,
   "metadata": {},
   "outputs": [
    {
     "name": "stderr",
     "output_type": "stream",
     "text": [
      "/Applications/Anaconda/anaconda3/lib/python3.7/site-packages/ipykernel_launcher.py:5: RuntimeWarning: overflow encountered in double_scalars\n",
      "  \"\"\"\n",
      "/Applications/Anaconda/anaconda3/lib/python3.7/site-packages/ipykernel_launcher.py:5: RuntimeWarning: invalid value encountered in double_scalars\n",
      "  \"\"\"\n"
     ]
    }
   ],
   "source": [
    "for i in range(len(f)):\n",
    "    flag = 0\n",
    "    for j in range(1,1000):\n",
    "        if flag == 0:\n",
    "            if ((1+2*f[i])**j)*((1-f[i])**(1000-j)) >= 10**9:\n",
    "                w[i] = j\n",
    "                flag = 1"
   ]
  },
  {
   "cell_type": "code",
   "execution_count": null,
   "metadata": {},
   "outputs": [],
   "source": []
  },
  {
   "cell_type": "code",
   "execution_count": 145,
   "metadata": {},
   "outputs": [
    {
     "data": {
      "image/png": "[encoded data removed]",
      "text/plain": [
       "<Figure size 432x288 with 1 Axes>"
      ]
     },
     "metadata": {
      "needs_background": "light"
     },
     "output_type": "display_data"
    }
   ],
   "source": [
    "# Now we can plot this number of wins needed for each f\n",
    "plt.plot(f,w)\n",
    "plt.title ('Number of wins needed to be billionaire');\n",
    "plt.xlabel('f: part of the amount to be bet at each toss');\n",
    "plt.ylabel('w: number of toss needed to be billionaire for each f');"
   ]
  },
  {
   "cell_type": "markdown",
   "metadata": {},
   "source": [
    "The minimum number of wins is given by $min(w)$"
   ]
  },
  {
   "cell_type": "code",
   "execution_count": 147,
   "metadata": {},
   "outputs": [
    {
     "data": {
      "text/plain": [
       "432"
      ]
     },
     "execution_count": 147,
     "metadata": {},
     "output_type": "execute_result"
    }
   ],
   "source": [
    "min(w)"
   ]
  },
  {
   "cell_type": "markdown",
   "metadata": {},
   "source": [
    "The minimum number of tosses to become a billionaire is 432. We can now find the initial fraction of our wealth needed to invest to achieve the 1B target."
   ]
  },
  {
   "cell_type": "code",
   "execution_count": 148,
   "metadata": {},
   "outputs": [
    {
     "data": {
      "text/plain": [
       "0.1296"
      ]
     },
     "execution_count": 148,
     "metadata": {},
     "output_type": "execute_result"
    }
   ],
   "source": [
    "index = w.index(min(w))\n",
    "f[index]"
   ]
  },
  {
   "cell_type": "markdown",
   "metadata": {},
   "source": [
    "In order to calculate the probability of becoming billionaire I need to compute the chance of obtaining at least 432 heads on 1000 tosses. As we have equal chance to obtain heads or tails at each toss, the probability of obtaining x heads over 1000 will follow a binomial distribution with $n=1000$, $p=0.5$"
   ]
  },
  {
   "cell_type": "code",
   "execution_count": 149,
   "metadata": {},
   "outputs": [],
   "source": [
    "n = 1000\n",
    "p = 0.5\n",
    "k = np.arange(1000)\n",
    "binomial = scipy.stats.binom.pmf(k,n,p)\n"
   ]
  },
  {
   "cell_type": "markdown",
   "metadata": {},
   "source": [
    "Ultimately the probability of becoming a billionaire is the cumulative probaility of obtaining $432$ ore more heads."
   ]
  },
  {
   "cell_type": "code",
   "execution_count": 151,
   "metadata": {},
   "outputs": [],
   "source": [
    "p = (sum(binomial[432:1000]))\n"
   ]
  },
  {
   "cell_type": "code",
   "execution_count": 152,
   "metadata": {},
   "outputs": [
    {
     "data": {
      "text/plain": [
       "0.999992836187"
      ]
     },
     "execution_count": 152,
     "metadata": {},
     "output_type": "execute_result"
    }
   ],
   "source": [
    "p.round(12)"
   ]
  },
  {
   "cell_type": "code",
   "execution_count": null,
   "metadata": {},
   "outputs": [],
   "source": [
    "\n"
   ]
  },
  {
   "cell_type": "code",
   "execution_count": null,
   "metadata": {},
   "outputs": [],
   "source": []
  }
 ],
 "metadata": {
  "kernelspec": {
   "display_name": "Python 3",
   "language": "python",
   "name": "python3"
  },
  "language_info": {
   "codemirror_mode": {
    "name": "ipython",
    "version": 3
   },
   "file_extension": ".py",
   "mimetype": "text/x-python",
   "name": "python",
   "nbconvert_exporter": "python",
   "pygments_lexer": "ipython3",
   "version": "3.7.3"
  }
 },
 "nbformat": 4,
 "nbformat_minor": 2
}
